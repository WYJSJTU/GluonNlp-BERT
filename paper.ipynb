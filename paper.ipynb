{
 "cells": [
  {
   "cell_type": "code",
   "execution_count": 83,
   "id": "d3ef5627",
   "metadata": {},
   "outputs": [
    {
     "name": "stdout",
     "output_type": "stream",
     "text": [
      "       prediction  label                                             review\n",
      "497             0      0                          和谐的天鹅湖！。一只舞蹈中的河蟹~ 很优雅很威武！\n",
      "8443            1      1                            男人又虾我而加连ERP 都虾我~ shit ！\n",
      "5140            1      1                老細 對 我狠下毒手...把我的頭 推向玻璃門 處 撞~ 媽 媽 的~\n",
      "12759           1      2  试了下前段说的美瞳 ，没想到隐形的东东这么难戴，眼睛一遇到这不明来客就本能的眯起来，折腾了半...\n",
      "3043            2      0  保佑感冒快点好.....保佑快点好起来…逢考必过...冲这一点,转了...保佑保佑啊...保...\n",
      "8709            2      1                                           谁知道我是谁呢？\n",
      "6739            1      1            下2本小说而已，结果IE 里面多了15个网站。删也删不掉。广告太tmd 恶心了\n",
      "10153           2      2  天呐！听说是教师公寓，下午两点这时候在家的，好多都是退休在家的老人，要么还是婴儿或者是病人。...\n",
      "3487            0      0      回复我也不介意。我不介意陪玩儿啊~ ~ 我不介意帮你约个帅哥一起我们的台球之旅，哇哈哈哈~\n",
      "10236           2      2  还是喜欢灰太狼！《山楂树之恋》今日感人上映。网上已无数人感慨“嫁人嫁老三，老婆娶静秋”。此前...\n"
     ]
    }
   ],
   "source": [
    "\n",
    "\n",
    "import pandas as pd\n",
    "\n",
    "gt = pd.read_csv('./data/weibo_3/test_weibo_3.tsv', sep='\\t')\n",
    "pred = pd.read_csv('./output_dir/weibo3.tsv', sep='\\t')\n",
    "show = pd.concat([pred.prediction, gt.label, gt.review], axis = 1)\n",
    "# print(pred)\n",
    "# print(gt)\n",
    "print(show.sample(10))"
   ]
  },
  {
   "cell_type": "code",
   "execution_count": 84,
   "id": "113b2bee",
   "metadata": {},
   "outputs": [
    {
     "name": "stdout",
     "output_type": "stream",
     "text": [
      "      prediction  label                                      review\n",
      "1861           0      0                                超时了20分钟了太不满意\n",
      "910            1      1                                      非常好吃的饼\n",
      "751            1      1                                       稍微有点晚\n",
      "1723           0      0                                      饭不是现做的\n",
      "952            1      1                                 第一次吃宇宙卷饼，好吃\n",
      "148            0      0         菜的味道还行，不过肉不是新鲜的。隔夜肉！其次米饭是前一天的，有变质味！\n",
      "500            0      0  全凉了，面都硬了。送的慢可以理解，大冷天没用保温箱还是奇葩的锡纸包装，没法放微波炉。\n",
      "1286           1      1                            最好喝的奶茶，最给力的快递小哥。\n",
      "1645           1      0                                  巨油！感觉就是在喝油\n",
      "1609           0      0                          快递员不认识路，取餐后一个小时才送来\n"
     ]
    }
   ],
   "source": [
    "\n",
    "\n",
    "import pandas as pd\n",
    "\n",
    "gt = pd.read_csv('./data/waimai/test_waimai.tsv', sep='\\t')\n",
    "pred = pd.read_csv('./output_dir/waimai.tsv', sep='\\t')\n",
    "show = pd.concat([pred.prediction, gt.label, gt.review], axis = 1)\n",
    "# print(pred)\n",
    "# print(gt)\n",
    "print(show.sample(10))"
   ]
  },
  {
   "cell_type": "code",
   "execution_count": 80,
   "id": "da2eed77",
   "metadata": {},
   "outputs": [
    {
     "name": "stdout",
     "output_type": "stream",
     "text": [
      "      prediction  label                                             review\n",
      "2646           1      1  Fans of Gerry Anderson's productions will reco...\n",
      "83             0      0  The production values in this video are so poo...\n",
      "162            0      0  I had to watch this movie for professional rea...\n",
      "3948           1      1  Was very fortunate to see the movie Hari Om at...\n",
      "2044           0      0  Maybe I was to young when I saw it. Perhaps I ...\n",
      "1311           0      0  I completely understand WHY this movie was mad...\n",
      "3336           1      1  I went to see Glenn McQuaid's \"I Sell The Dead...\n",
      "2401           0      0  Unfortunately producers don't know when to lea...\n",
      "2433           0      0  Closet Land is a nasty piece of work with supe...\n",
      "3810           1      1  My first exposure to Japanese animation direct...\n"
     ]
    }
   ],
   "source": [
    "\n",
    "\n",
    "import pandas as pd\n",
    "\n",
    "gt = pd.read_csv('./data/movie/test_movie.tsv', sep='\\t')\n",
    "pred = pd.read_csv('../bert_zzy/output_dir/movie_23-11-24-14.tsv', sep='\\t')\n",
    "show = pd.concat([pred.prediction, gt.label, gt.review], axis = 1)\n",
    "# print(pred)\n",
    "# print(gt)\n",
    "print(show.sample(10))"
   ]
  },
  {
   "cell_type": "code",
   "execution_count": null,
   "id": "d4c4a742",
   "metadata": {},
   "outputs": [],
   "source": []
  }
 ],
 "metadata": {
  "kernelspec": {
   "display_name": "Python 3",
   "language": "python",
   "name": "python3"
  },
  "language_info": {
   "codemirror_mode": {
    "name": "ipython",
    "version": 3
   },
   "file_extension": ".py",
   "mimetype": "text/x-python",
   "name": "python",
   "nbconvert_exporter": "python",
   "pygments_lexer": "ipython3",
   "version": "3.7.10"
  }
 },
 "nbformat": 4,
 "nbformat_minor": 5
}
