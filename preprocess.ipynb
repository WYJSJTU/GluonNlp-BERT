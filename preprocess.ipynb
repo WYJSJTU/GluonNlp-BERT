{
 "cells": [
  {
   "cell_type": "markdown",
   "metadata": {},
   "source": [
    "# waimai_10k 说明\n",
    "0. **下载地址：** [Github](https://github.com/SophonPlus/ChineseNlpCorpus/raw/master/datasets/waimai_10k/waimai_10k.csv)\n",
    "1. **数据概览：** 某外卖平台收集的用户评价，正向 4000 条，负向 约 8000 条\n",
    "2. **推荐实验：** 情感/观点/评论 倾向性分析\n",
    "2. **数据来源：** 某外卖平台\n",
    "3. **原数据集：** [中文短文本情感分析语料 外卖评价](https://download.csdn.net/download/cstkl/10236683)，网上搜集，具体作者、来源不详\n",
    "4. **加工处理：**\n",
    "    1. 将原来 2 个文件整合到 1 个文件中\n",
    "    2. 去重"
   ]
  },
  {
   "cell_type": "code",
   "execution_count": 246,
   "metadata": {},
   "outputs": [],
   "source": [
    "import pandas as pd\n",
    "import os"
   ]
  },
  {
   "cell_type": "code",
   "execution_count": null,
   "metadata": {},
   "outputs": [],
   "source": []
  },
  {
   "cell_type": "code",
   "execution_count": 247,
   "metadata": {},
   "outputs": [],
   "source": [
    "path = './asap/data'"
   ]
  },
  {
   "cell_type": "code",
   "execution_count": 248,
   "metadata": {},
   "outputs": [],
   "source": [
    "split='test'"
   ]
  },
  {
   "cell_type": "markdown",
   "metadata": {},
   "source": [
    "# 1. waimai_10k.csv"
   ]
  },
  {
   "cell_type": "markdown",
   "metadata": {},
   "source": [
    "## 加载数据"
   ]
  },
  {
   "cell_type": "code",
   "execution_count": 249,
   "metadata": {},
   "outputs": [
    {
     "name": "stdout",
     "output_type": "stream",
     "text": [
      "\n",
      "评论数目（总体）：4940\n",
      "Index(['id', 'review', 'star', 'Location#Transportation', 'Location#Downtown',\n",
      "       'Location#Easy_to_find', 'Service#Queue', 'Service#Hospitality',\n",
      "       'Service#Parking', 'Service#Timely', 'Price#Level',\n",
      "       'Price#Cost_effective', 'Price#Discount', 'Ambience#Decoration',\n",
      "       'Ambience#Noise', 'Ambience#Space', 'Ambience#Sanitary', 'Food#Portion',\n",
      "       'Food#Taste', 'Food#Appearance', 'Food#Recommend'],\n",
      "      dtype='object')\n",
      "1星评论数目：165\n",
      "2星评论数目：173\n",
      "3星评论数目：717\n",
      "4星评论数目：1867\n",
      "5星评论数目：2018\n"
     ]
    }
   ],
   "source": [
    "pd_all = pd.read_csv(os.path.join(path,'%s.csv'%(split)))\n",
    "print()\n",
    "print('评论数目（总体）：%d' % pd_all.shape[0])\n",
    "print(pd_all.columns)\n",
    "for i in range(1,6):\n",
    "    \n",
    "    print('%d星评论数目：%d' % (i,pd_all[pd_all.star==i].shape[0]))\n",
    "#print('评论数目（负向）：%d' % pd_all[pd_all.label==0].shape[0])"
   ]
  },
  {
   "cell_type": "code",
   "execution_count": 250,
   "metadata": {},
   "outputs": [],
   "source": [
    "data = pd_all.loc[:,'review':'star']"
   ]
  },
  {
   "cell_type": "code",
   "execution_count": 251,
   "metadata": {},
   "outputs": [
    {
     "name": "stdout",
     "output_type": "stream",
     "text": [
      "                                                 review  star\n",
      "0     和老公的朋友们聚餐，选择了这家烧肉屋，据说人气很旺，于是定座的，我们坐在楼上，阁楼感觉有点空...   4.0\n",
      "1     昨天晚上想找个安静的环境和同事谈工作，去了绿茵阁。我是第一次到该店，一进去感觉很温馨，环境优...   4.0\n",
      "2     以前听朋友说超级推荐 然后她又在野餐的时候买了这里的瘦身沙拉 我就更加期待 因为平时不在这一...   5.0\n",
      "3     看到大众点评网的推荐来试试看，在意大利餐厅吃泰国菜虽然说是创意泰菜，也只是摆盘更多变、时尚，...   4.0\n",
      "4     在清迈我唯一推荐的一家餐厅，非常非常正宗的泰北菜。叫做河岸餐厅顾名思义就在河边，我建议傍晚的...   5.0\n",
      "...                                                 ...   ...\n",
      "4935  家里有亲戚来北京玩，顺便来看我，也好长时间没有见了，我就带他们去吃了个饭，北京的餐饮是在太多...   5.0\n",
      "4936  哇!居然抽到了叶姐家的海鲜加工券，约了几个本地的经常吃原味海鲜的朋友，在一市场一顿哗啦啦的买...   5.0\n",
      "4937  和在其他城市吃过的台湾餐厅着实不同，大概是跟朝鲜人合伙开的~没有看到多少台式菜品，韩式的却着...   4.0\n",
      "4938  开了很久的店了，地铁站附近，一出来右转上个大斜坡石梯就到了。门口有停车位，但超时要收费。店家...   4.0\n",
      "4939  真是太给力了，上次不到20元的那个就抢到了，这次没想到又出现了，还是这么便宜，而且名额比上次...   5.0\n",
      "\n",
      "[4940 rows x 2 columns]\n"
     ]
    }
   ],
   "source": [
    "print(data)"
   ]
  },
  {
   "cell_type": "code",
   "execution_count": 252,
   "metadata": {},
   "outputs": [
    {
     "data": {
      "text/html": [
       "<div>\n",
       "<style scoped>\n",
       "    .dataframe tbody tr th:only-of-type {\n",
       "        vertical-align: middle;\n",
       "    }\n",
       "\n",
       "    .dataframe tbody tr th {\n",
       "        vertical-align: top;\n",
       "    }\n",
       "\n",
       "    .dataframe thead th {\n",
       "        text-align: right;\n",
       "    }\n",
       "</style>\n",
       "<table border=\"1\" class=\"dataframe\">\n",
       "  <thead>\n",
       "    <tr style=\"text-align: right;\">\n",
       "      <th></th>\n",
       "      <th>review</th>\n",
       "      <th>star</th>\n",
       "    </tr>\n",
       "  </thead>\n",
       "  <tbody>\n",
       "    <tr>\n",
       "      <th>0</th>\n",
       "      <td>和老公的朋友们聚餐，选择了这家烧肉屋，据说人气很旺，于是定座的，我们坐在楼上，阁楼感觉有点空...</td>\n",
       "      <td>4.0</td>\n",
       "    </tr>\n",
       "    <tr>\n",
       "      <th>1</th>\n",
       "      <td>昨天晚上想找个安静的环境和同事谈工作，去了绿茵阁。我是第一次到该店，一进去感觉很温馨，环境优...</td>\n",
       "      <td>4.0</td>\n",
       "    </tr>\n",
       "    <tr>\n",
       "      <th>2</th>\n",
       "      <td>以前听朋友说超级推荐 然后她又在野餐的时候买了这里的瘦身沙拉 我就更加期待 因为平时不在这一...</td>\n",
       "      <td>5.0</td>\n",
       "    </tr>\n",
       "    <tr>\n",
       "      <th>3</th>\n",
       "      <td>看到大众点评网的推荐来试试看，在意大利餐厅吃泰国菜虽然说是创意泰菜，也只是摆盘更多变、时尚，...</td>\n",
       "      <td>4.0</td>\n",
       "    </tr>\n",
       "    <tr>\n",
       "      <th>4</th>\n",
       "      <td>在清迈我唯一推荐的一家餐厅，非常非常正宗的泰北菜。叫做河岸餐厅顾名思义就在河边，我建议傍晚的...</td>\n",
       "      <td>5.0</td>\n",
       "    </tr>\n",
       "    <tr>\n",
       "      <th>...</th>\n",
       "      <td>...</td>\n",
       "      <td>...</td>\n",
       "    </tr>\n",
       "    <tr>\n",
       "      <th>4935</th>\n",
       "      <td>家里有亲戚来北京玩，顺便来看我，也好长时间没有见了，我就带他们去吃了个饭，北京的餐饮是在太多...</td>\n",
       "      <td>5.0</td>\n",
       "    </tr>\n",
       "    <tr>\n",
       "      <th>4936</th>\n",
       "      <td>哇!居然抽到了叶姐家的海鲜加工券，约了几个本地的经常吃原味海鲜的朋友，在一市场一顿哗啦啦的买...</td>\n",
       "      <td>5.0</td>\n",
       "    </tr>\n",
       "    <tr>\n",
       "      <th>4937</th>\n",
       "      <td>和在其他城市吃过的台湾餐厅着实不同，大概是跟朝鲜人合伙开的~没有看到多少台式菜品，韩式的却着...</td>\n",
       "      <td>4.0</td>\n",
       "    </tr>\n",
       "    <tr>\n",
       "      <th>4938</th>\n",
       "      <td>开了很久的店了，地铁站附近，一出来右转上个大斜坡石梯就到了。门口有停车位，但超时要收费。店家...</td>\n",
       "      <td>4.0</td>\n",
       "    </tr>\n",
       "    <tr>\n",
       "      <th>4939</th>\n",
       "      <td>真是太给力了，上次不到20元的那个就抢到了，这次没想到又出现了，还是这么便宜，而且名额比上次...</td>\n",
       "      <td>5.0</td>\n",
       "    </tr>\n",
       "  </tbody>\n",
       "</table>\n",
       "<p>4940 rows × 2 columns</p>\n",
       "</div>"
      ],
      "text/plain": [
       "                                                 review  star\n",
       "0     和老公的朋友们聚餐，选择了这家烧肉屋，据说人气很旺，于是定座的，我们坐在楼上，阁楼感觉有点空...   4.0\n",
       "1     昨天晚上想找个安静的环境和同事谈工作，去了绿茵阁。我是第一次到该店，一进去感觉很温馨，环境优...   4.0\n",
       "2     以前听朋友说超级推荐 然后她又在野餐的时候买了这里的瘦身沙拉 我就更加期待 因为平时不在这一...   5.0\n",
       "3     看到大众点评网的推荐来试试看，在意大利餐厅吃泰国菜虽然说是创意泰菜，也只是摆盘更多变、时尚，...   4.0\n",
       "4     在清迈我唯一推荐的一家餐厅，非常非常正宗的泰北菜。叫做河岸餐厅顾名思义就在河边，我建议傍晚的...   5.0\n",
       "...                                                 ...   ...\n",
       "4935  家里有亲戚来北京玩，顺便来看我，也好长时间没有见了，我就带他们去吃了个饭，北京的餐饮是在太多...   5.0\n",
       "4936  哇!居然抽到了叶姐家的海鲜加工券，约了几个本地的经常吃原味海鲜的朋友，在一市场一顿哗啦啦的买...   5.0\n",
       "4937  和在其他城市吃过的台湾餐厅着实不同，大概是跟朝鲜人合伙开的~没有看到多少台式菜品，韩式的却着...   4.0\n",
       "4938  开了很久的店了，地铁站附近，一出来右转上个大斜坡石梯就到了。门口有停车位，但超时要收费。店家...   4.0\n",
       "4939  真是太给力了，上次不到20元的那个就抢到了，这次没想到又出现了，还是这么便宜，而且名额比上次...   5.0\n",
       "\n",
       "[4940 rows x 2 columns]"
      ]
     },
     "execution_count": 252,
     "metadata": {},
     "output_type": "execute_result"
    }
   ],
   "source": [
    "data"
   ]
  },
  {
   "cell_type": "code",
   "execution_count": 253,
   "metadata": {},
   "outputs": [],
   "source": [
    "def DBC2SBC(ustring_list):\n",
    "    # '全角转半角'\n",
    "    normal_str_list=[]\n",
    "    for i in range(len(ustring_list)):\n",
    "        rstring = \"\"\n",
    "        for uchar in ustring_list[i]:\n",
    "            inside_code = ord(uchar)\n",
    "            if inside_code == 0x3000:\n",
    "                inside_code = 0x0020\n",
    "            else:\n",
    "                inside_code -= 0xfee0\n",
    "                if not (0x0021 <= inside_code and inside_code <= 0x7e):\n",
    "                    rstring += uchar\n",
    "                    continue\n",
    "                rstring += chr(inside_code)\n",
    "        normal_str_list.append(rstring)\n",
    "    return normal_str_list"
   ]
  },
  {
   "cell_type": "code",
   "execution_count": 254,
   "metadata": {},
   "outputs": [],
   "source": [
    "data['review']=DBC2SBC(data['review'])\n",
    "#data['review'] = data['review'].str.replace(r'.','')\n",
    "#data['review'] = data['review'].str.replace(r'～','')\n",
    "#data['review'] = data['review'].str.replace(r'~','')\n",
    "#data['review'] = data['review'].str.replace(r':','')\n",
    "#data['review'] = data['review'].str.replace(r'（','')\n",
    "#data['review'] = data['review'].str.replace(r'）','')\n",
    "data['review'] = data['review'].str.replace(r'=','')\n",
    "data['review'] = data['review'].str.replace(r'【','[')\n",
    "data['review'] = data['review'].str.replace(r'】',']')\n",
    "\n",
    "data['review'] = data['review'].str.replace(r'\\\\\\\\n','',regex=True)\n",
    "data['star'] = data['star'].astype('int')-1\n",
    "data['star'] = data['star'].astype('str') "
   ]
  },
  {
   "cell_type": "code",
   "execution_count": 255,
   "metadata": {},
   "outputs": [
    {
     "data": {
      "text/plain": [
       "0       3\n",
       "1       3\n",
       "2       4\n",
       "3       3\n",
       "4       4\n",
       "       ..\n",
       "4935    4\n",
       "4936    4\n",
       "4937    3\n",
       "4938    3\n",
       "4939    4\n",
       "Name: star, Length: 4940, dtype: object"
      ]
     },
     "execution_count": 255,
     "metadata": {},
     "output_type": "execute_result"
    }
   ],
   "source": [
    "data['star']"
   ]
  },
  {
   "cell_type": "code",
   "execution_count": 256,
   "metadata": {},
   "outputs": [],
   "source": [
    "data.to_csv(os.path.join(path,\"%s_meituan.tsv\"%split), index=False, sep='\\t', encoding='utf-8')\n"
   ]
  },
  {
   "cell_type": "code",
   "execution_count": 257,
   "metadata": {},
   "outputs": [],
   "source": [
    "pd_tmp = pd.read_csv(\"/data1/hxy/wyj/bert/data/weibo_3/test_weibo_3.tsv\", sep='\\t', encoding='utf-8')\n"
   ]
  },
  {
   "cell_type": "code",
   "execution_count": 258,
   "metadata": {},
   "outputs": [
    {
     "data": {
      "text/html": [
       "<div>\n",
       "<style scoped>\n",
       "    .dataframe tbody tr th:only-of-type {\n",
       "        vertical-align: middle;\n",
       "    }\n",
       "\n",
       "    .dataframe tbody tr th {\n",
       "        vertical-align: top;\n",
       "    }\n",
       "\n",
       "    .dataframe thead th {\n",
       "        text-align: right;\n",
       "    }\n",
       "</style>\n",
       "<table border=\"1\" class=\"dataframe\">\n",
       "  <thead>\n",
       "    <tr style=\"text-align: right;\">\n",
       "      <th></th>\n",
       "      <th>label</th>\n",
       "      <th>review</th>\n",
       "    </tr>\n",
       "  </thead>\n",
       "  <tbody>\n",
       "    <tr>\n",
       "      <th>0</th>\n",
       "      <td>0</td>\n",
       "      <td>熊猫骨架长这样啊。。（附图为熊猫骨架）</td>\n",
       "    </tr>\n",
       "    <tr>\n",
       "      <th>1</th>\n",
       "      <td>0</td>\n",
       "      <td>太无聊的时候可以试试....一只小手指的自杀花样。</td>\n",
       "    </tr>\n",
       "    <tr>\n",
       "      <th>2</th>\n",
       "      <td>0</td>\n",
       "      <td>这批勋章很好看，呵呵，一定第一时间抢到手。加油冒泡呗这套勋章不错啊，什么时候我能集满全套？冒...</td>\n",
       "    </tr>\n",
       "    <tr>\n",
       "      <th>3</th>\n",
       "      <td>0</td>\n",
       "      <td>周董你老有才了，我老喜欢你啦</td>\n",
       "    </tr>\n",
       "    <tr>\n",
       "      <th>4</th>\n",
       "      <td>0</td>\n",
       "      <td>兩 個 大細 路...月亮眼出招!真係 笑到見 牙唔見 眼...</td>\n",
       "    </tr>\n",
       "    <tr>\n",
       "      <th>...</th>\n",
       "      <td>...</td>\n",
       "      <td>...</td>\n",
       "    </tr>\n",
       "    <tr>\n",
       "      <th>14995</th>\n",
       "      <td>2</td>\n",
       "      <td>假药害人又害犬啊！！！国人已无可奈何国人已对假药有了抵抗力了,动物还要努力适应国情呀.老百姓...</td>\n",
       "    </tr>\n",
       "    <tr>\n",
       "      <th>14996</th>\n",
       "      <td>2</td>\n",
       "      <td>。宽恕别人就是宽恕自己；宽恕自己就是因为看到真正的自己是谁,而宽恕的只是自己的仆人们。</td>\n",
       "    </tr>\n",
       "    <tr>\n",
       "      <th>14997</th>\n",
       "      <td>2</td>\n",
       "      <td>学习并收藏: 总结得太棒啦。虽弓！大师－名师－导师；笑果－效果－成果；外训－内训－自训；课程...</td>\n",
       "    </tr>\n",
       "    <tr>\n",
       "      <th>14998</th>\n",
       "      <td>2</td>\n",
       "      <td>回复只能选A 了！A 、人品不好，B 、与领导关系不好，C 、与家里关系不好（预期你只敢选A...</td>\n",
       "    </tr>\n",
       "    <tr>\n",
       "      <th>14999</th>\n",
       "      <td>2</td>\n",
       "      <td>这大哥一首歌吃老本15年了啊faint</td>\n",
       "    </tr>\n",
       "  </tbody>\n",
       "</table>\n",
       "<p>15000 rows × 2 columns</p>\n",
       "</div>"
      ],
      "text/plain": [
       "       label                                             review\n",
       "0          0                                熊猫骨架长这样啊。。（附图为熊猫骨架）\n",
       "1          0                          太无聊的时候可以试试....一只小手指的自杀花样。\n",
       "2          0  这批勋章很好看，呵呵，一定第一时间抢到手。加油冒泡呗这套勋章不错啊，什么时候我能集满全套？冒...\n",
       "3          0                                     周董你老有才了，我老喜欢你啦\n",
       "4          0                   兩 個 大細 路...月亮眼出招!真係 笑到見 牙唔見 眼...\n",
       "...      ...                                                ...\n",
       "14995      2  假药害人又害犬啊！！！国人已无可奈何国人已对假药有了抵抗力了,动物还要努力适应国情呀.老百姓...\n",
       "14996      2        。宽恕别人就是宽恕自己；宽恕自己就是因为看到真正的自己是谁,而宽恕的只是自己的仆人们。\n",
       "14997      2  学习并收藏: 总结得太棒啦。虽弓！大师－名师－导师；笑果－效果－成果；外训－内训－自训；课程...\n",
       "14998      2  回复只能选A 了！A 、人品不好，B 、与领导关系不好，C 、与家里关系不好（预期你只敢选A...\n",
       "14999      2                                这大哥一首歌吃老本15年了啊faint\n",
       "\n",
       "[15000 rows x 2 columns]"
      ]
     },
     "execution_count": 258,
     "metadata": {},
     "output_type": "execute_result"
    }
   ],
   "source": [
    "pd_tmp"
   ]
  },
  {
   "cell_type": "code",
   "execution_count": null,
   "metadata": {},
   "outputs": [],
   "source": []
  }
 ],
 "metadata": {
  "kernelspec": {
   "display_name": "Python 3",
   "language": "python",
   "name": "python3"
  },
  "language_info": {
   "codemirror_mode": {
    "name": "ipython",
    "version": 3
   },
   "file_extension": ".py",
   "mimetype": "text/x-python",
   "name": "python",
   "nbconvert_exporter": "python",
   "pygments_lexer": "ipython3",
   "version": "3.7.10"
  },
  "widgets": {
   "state": {},
   "version": "1.1.2"
  }
 },
 "nbformat": 4,
 "nbformat_minor": 2
}
